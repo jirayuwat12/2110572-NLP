{
 "cells": [
  {
   "cell_type": "markdown",
   "metadata": {},
   "source": [
    "# Split data"
   ]
  },
  {
   "cell_type": "code",
   "execution_count": 1,
   "metadata": {},
   "outputs": [],
   "source": [
    "import pandas as pd\n",
    "from sklearn.model_selection import train_test_split"
   ]
  },
  {
   "cell_type": "code",
   "execution_count": 2,
   "metadata": {},
   "outputs": [],
   "source": [
    "TRAIN_SIZE = 0.9\n",
    "TEST_SIZE = 0.0\n",
    "VAL_SIZE = 0.1\n",
    "RANDOM_SEED = 911"
   ]
  },
  {
   "cell_type": "code",
   "execution_count": 3,
   "metadata": {},
   "outputs": [
    {
     "data": {
      "text/html": [
       "<div>\n",
       "<style scoped>\n",
       "    .dataframe tbody tr th:only-of-type {\n",
       "        vertical-align: middle;\n",
       "    }\n",
       "\n",
       "    .dataframe tbody tr th {\n",
       "        vertical-align: top;\n",
       "    }\n",
       "\n",
       "    .dataframe thead th {\n",
       "        text-align: right;\n",
       "    }\n",
       "</style>\n",
       "<table border=\"1\" class=\"dataframe\">\n",
       "  <thead>\n",
       "    <tr style=\"text-align: right;\">\n",
       "      <th></th>\n",
       "      <th>ID</th>\n",
       "      <th>set</th>\n",
       "      <th>question</th>\n",
       "      <th>answer</th>\n",
       "      <th>score</th>\n",
       "    </tr>\n",
       "  </thead>\n",
       "  <tbody>\n",
       "    <tr>\n",
       "      <th>0</th>\n",
       "      <td>0</td>\n",
       "      <td>Q2</td>\n",
       "      <td>Hamtube เป็นแพลตฟอร์มดูวีดีโอออนไลน์ ที่อนุญาต...</td>\n",
       "      <td>granularity ควรจะมีค่าต่ำ เพราะว่าเราต้องการทร...</td>\n",
       "      <td>0.0</td>\n",
       "    </tr>\n",
       "    <tr>\n",
       "      <th>1</th>\n",
       "      <td>1</td>\n",
       "      <td>Q3</td>\n",
       "      <td>Hamtube เป็นแพลตฟอร์มดูวีดีโอออนไลน์ ที่อนุญาต...</td>\n",
       "      <td>เห็นด้วย เพราะเป็นการเก็บข้อมูลจากหลาย  users ...</td>\n",
       "      <td>5.0</td>\n",
       "    </tr>\n",
       "    <tr>\n",
       "      <th>2</th>\n",
       "      <td>2</td>\n",
       "      <td>Q2</td>\n",
       "      <td>Hamtube เป็นแพลตฟอร์มดูวีดีโอออนไลน์ ที่อนุญาต...</td>\n",
       "      <td>granularity ควรเป็น #checkout events/ #cookies...</td>\n",
       "      <td>5.0</td>\n",
       "    </tr>\n",
       "    <tr>\n",
       "      <th>3</th>\n",
       "      <td>3</td>\n",
       "      <td>Q3</td>\n",
       "      <td>Hamtube เป็นแพลตฟอร์มดูวีดีโอออนไลน์ ที่อนุญาต...</td>\n",
       "      <td>เห็นด้วย ให้ X~Binomial(N,p) โดย p เป็นอัตราส่...</td>\n",
       "      <td>2.0</td>\n",
       "    </tr>\n",
       "    <tr>\n",
       "      <th>4</th>\n",
       "      <td>4</td>\n",
       "      <td>Q1</td>\n",
       "      <td>Hamtube เป็นแพลตฟอร์มดูวีดีโอออนไลน์ ที่อนุญาต...</td>\n",
       "      <td>เห็นด้วย เนื่องจากการทดสอบ A/B Testing เป็นวิธ...</td>\n",
       "      <td>4.5</td>\n",
       "    </tr>\n",
       "  </tbody>\n",
       "</table>\n",
       "</div>"
      ],
      "text/plain": [
       "   ID set                                           question  \\\n",
       "0   0  Q2  Hamtube เป็นแพลตฟอร์มดูวีดีโอออนไลน์ ที่อนุญาต...   \n",
       "1   1  Q3  Hamtube เป็นแพลตฟอร์มดูวีดีโอออนไลน์ ที่อนุญาต...   \n",
       "2   2  Q2  Hamtube เป็นแพลตฟอร์มดูวีดีโอออนไลน์ ที่อนุญาต...   \n",
       "3   3  Q3  Hamtube เป็นแพลตฟอร์มดูวีดีโอออนไลน์ ที่อนุญาต...   \n",
       "4   4  Q1  Hamtube เป็นแพลตฟอร์มดูวีดีโอออนไลน์ ที่อนุญาต...   \n",
       "\n",
       "                                              answer  score  \n",
       "0  granularity ควรจะมีค่าต่ำ เพราะว่าเราต้องการทร...    0.0  \n",
       "1  เห็นด้วย เพราะเป็นการเก็บข้อมูลจากหลาย  users ...    5.0  \n",
       "2  granularity ควรเป็น #checkout events/ #cookies...    5.0  \n",
       "3  เห็นด้วย ให้ X~Binomial(N,p) โดย p เป็นอัตราส่...    2.0  \n",
       "4  เห็นด้วย เนื่องจากการทดสอบ A/B Testing เป็นวิธ...    4.5  "
      ]
     },
     "execution_count": 3,
     "metadata": {},
     "output_type": "execute_result"
    }
   ],
   "source": [
    "train_df = pd.read_csv(\"./data/train.csv\")\n",
    "train_df.head()"
   ]
  },
  {
   "cell_type": "code",
   "execution_count": 4,
   "metadata": {},
   "outputs": [
    {
     "name": "stdout",
     "output_type": "stream",
     "text": [
      "Train size: 325\n",
      "Validation size: 37\n",
      "Test size: 0\n"
     ]
    }
   ],
   "source": [
    "train_df, val_df = train_test_split(train_df, test_size=VAL_SIZE, random_state=RANDOM_SEED)\n",
    "if TEST_SIZE > 0:\n",
    "    train_df, test_df = train_test_split(train_df, test_size=TEST_SIZE, random_state=RANDOM_SEED)\n",
    "\n",
    "print(f\"Train size: {len(train_df)}\")\n",
    "print(f\"Validation size: {len(val_df)}\")\n",
    "print(f\"Test size: {len(test_df) if TEST_SIZE > 0 else 0}\")"
   ]
  },
  {
   "cell_type": "markdown",
   "metadata": {},
   "source": [
    "# Create model"
   ]
  },
  {
   "cell_type": "code",
   "execution_count": null,
   "metadata": {},
   "outputs": [],
   "source": [
    "GROQ_API = \"\""
   ]
  },
  {
   "cell_type": "code",
   "execution_count": 6,
   "metadata": {},
   "outputs": [
    {
     "data": {
      "text/html": [
       "<div>\n",
       "<style scoped>\n",
       "    .dataframe tbody tr th:only-of-type {\n",
       "        vertical-align: middle;\n",
       "    }\n",
       "\n",
       "    .dataframe tbody tr th {\n",
       "        vertical-align: top;\n",
       "    }\n",
       "\n",
       "    .dataframe thead th {\n",
       "        text-align: right;\n",
       "    }\n",
       "</style>\n",
       "<table border=\"1\" class=\"dataframe\">\n",
       "  <thead>\n",
       "    <tr style=\"text-align: right;\">\n",
       "      <th></th>\n",
       "      <th>ID</th>\n",
       "      <th>set</th>\n",
       "      <th>question</th>\n",
       "      <th>answer</th>\n",
       "      <th>score</th>\n",
       "    </tr>\n",
       "  </thead>\n",
       "  <tbody>\n",
       "    <tr>\n",
       "      <th>75</th>\n",
       "      <td>75</td>\n",
       "      <td>Q3</td>\n",
       "      <td>Hamtube เป็นแพลตฟอร์มดูวีดีโอออนไลน์ ที่อนุญาต...</td>\n",
       "      <td>Hamtaro should consider using the binomial dis...</td>\n",
       "      <td>5.0</td>\n",
       "    </tr>\n",
       "    <tr>\n",
       "      <th>232</th>\n",
       "      <td>232</td>\n",
       "      <td>Q2</td>\n",
       "      <td>Hamtube เป็นแพลตฟอร์มดูวีดีโอออนไลน์ ที่อนุญาต...</td>\n",
       "      <td>granularity ตามชั่วโมงหรือวัน เพื่อจับความแปรป...</td>\n",
       "      <td>0.0</td>\n",
       "    </tr>\n",
       "    <tr>\n",
       "      <th>274</th>\n",
       "      <td>274</td>\n",
       "      <td>Q3</td>\n",
       "      <td>Hamtube เป็นแพลตฟอร์มดูวีดีโอออนไลน์ ที่อนุญาต...</td>\n",
       "      <td>\\nการเลือกใช้ binomial distribution ใน A/B tes...</td>\n",
       "      <td>3.0</td>\n",
       "    </tr>\n",
       "    <tr>\n",
       "      <th>263</th>\n",
       "      <td>263</td>\n",
       "      <td>Q4</td>\n",
       "      <td>Hamtube เป็นแพลตฟอร์มดูวีดีโอออนไลน์ ที่อนุญาต...</td>\n",
       "      <td>สัดส่วน 50/50 ทำให้เราสามารถเก็บข้อมูลและเห็นค...</td>\n",
       "      <td>5.0</td>\n",
       "    </tr>\n",
       "    <tr>\n",
       "      <th>250</th>\n",
       "      <td>250</td>\n",
       "      <td>Q2</td>\n",
       "      <td>Hamtube เป็นแพลตฟอร์มดูวีดีโอออนไลน์ ที่อนุญาต...</td>\n",
       "      <td>ตัวเศษ - จำนวนครั้งผู้ใช้ที่คลิกโฆษณา\\nตัวส่วน...</td>\n",
       "      <td>4.5</td>\n",
       "    </tr>\n",
       "    <tr>\n",
       "      <th>...</th>\n",
       "      <td>...</td>\n",
       "      <td>...</td>\n",
       "      <td>...</td>\n",
       "      <td>...</td>\n",
       "      <td>...</td>\n",
       "    </tr>\n",
       "    <tr>\n",
       "      <th>72</th>\n",
       "      <td>72</td>\n",
       "      <td>Q4</td>\n",
       "      <td>Hamtube เป็นแพลตฟอร์มดูวีดีโอออนไลน์ ที่อนุญาต...</td>\n",
       "      <td>การเลือกสัดส่วนของผู้ใช้ที่เห็นโฆษณาตำแหน่งเก่...</td>\n",
       "      <td>3.0</td>\n",
       "    </tr>\n",
       "    <tr>\n",
       "      <th>95</th>\n",
       "      <td>95</td>\n",
       "      <td>Q1</td>\n",
       "      <td>Hamtube เป็นแพลตฟอร์มดูวีดีโอออนไลน์ ที่อนุญาต...</td>\n",
       "      <td>A/B testing คือเครื่องมือที่เหมาะสมในการทดสอบก...</td>\n",
       "      <td>4.5</td>\n",
       "    </tr>\n",
       "    <tr>\n",
       "      <th>283</th>\n",
       "      <td>283</td>\n",
       "      <td>Q1</td>\n",
       "      <td>Hamtube เป็นแพลตฟอร์มดูวีดีโอออนไลน์ ที่อนุญาต...</td>\n",
       "      <td>เพราะการนำ A/B testing มาใช้โดยให้ A test เป็น...</td>\n",
       "      <td>1.0</td>\n",
       "    </tr>\n",
       "    <tr>\n",
       "      <th>60</th>\n",
       "      <td>60</td>\n",
       "      <td>Q2</td>\n",
       "      <td>Hamtube เป็นแพลตฟอร์มดูวีดีโอออนไลน์ ที่อนุญาต...</td>\n",
       "      <td>granularity ควรเป็น ads clicked/ unique user เ...</td>\n",
       "      <td>5.0</td>\n",
       "    </tr>\n",
       "    <tr>\n",
       "      <th>178</th>\n",
       "      <td>178</td>\n",
       "      <td>Q1</td>\n",
       "      <td>Hamtube เป็นแพลตฟอร์มดูวีดีโอออนไลน์ ที่อนุญาต...</td>\n",
       "      <td>การใช้ A/B testing ในการทดสอบการย้ายตำแหน่งของ...</td>\n",
       "      <td>3.0</td>\n",
       "    </tr>\n",
       "  </tbody>\n",
       "</table>\n",
       "<p>325 rows × 5 columns</p>\n",
       "</div>"
      ],
      "text/plain": [
       "      ID set                                           question  \\\n",
       "75    75  Q3  Hamtube เป็นแพลตฟอร์มดูวีดีโอออนไลน์ ที่อนุญาต...   \n",
       "232  232  Q2  Hamtube เป็นแพลตฟอร์มดูวีดีโอออนไลน์ ที่อนุญาต...   \n",
       "274  274  Q3  Hamtube เป็นแพลตฟอร์มดูวีดีโอออนไลน์ ที่อนุญาต...   \n",
       "263  263  Q4  Hamtube เป็นแพลตฟอร์มดูวีดีโอออนไลน์ ที่อนุญาต...   \n",
       "250  250  Q2  Hamtube เป็นแพลตฟอร์มดูวีดีโอออนไลน์ ที่อนุญาต...   \n",
       "..   ...  ..                                                ...   \n",
       "72    72  Q4  Hamtube เป็นแพลตฟอร์มดูวีดีโอออนไลน์ ที่อนุญาต...   \n",
       "95    95  Q1  Hamtube เป็นแพลตฟอร์มดูวีดีโอออนไลน์ ที่อนุญาต...   \n",
       "283  283  Q1  Hamtube เป็นแพลตฟอร์มดูวีดีโอออนไลน์ ที่อนุญาต...   \n",
       "60    60  Q2  Hamtube เป็นแพลตฟอร์มดูวีดีโอออนไลน์ ที่อนุญาต...   \n",
       "178  178  Q1  Hamtube เป็นแพลตฟอร์มดูวีดีโอออนไลน์ ที่อนุญาต...   \n",
       "\n",
       "                                                answer  score  \n",
       "75   Hamtaro should consider using the binomial dis...    5.0  \n",
       "232  granularity ตามชั่วโมงหรือวัน เพื่อจับความแปรป...    0.0  \n",
       "274  \\nการเลือกใช้ binomial distribution ใน A/B tes...    3.0  \n",
       "263  สัดส่วน 50/50 ทำให้เราสามารถเก็บข้อมูลและเห็นค...    5.0  \n",
       "250  ตัวเศษ - จำนวนครั้งผู้ใช้ที่คลิกโฆษณา\\nตัวส่วน...    4.5  \n",
       "..                                                 ...    ...  \n",
       "72   การเลือกสัดส่วนของผู้ใช้ที่เห็นโฆษณาตำแหน่งเก่...    3.0  \n",
       "95   A/B testing คือเครื่องมือที่เหมาะสมในการทดสอบก...    4.5  \n",
       "283  เพราะการนำ A/B testing มาใช้โดยให้ A test เป็น...    1.0  \n",
       "60   granularity ควรเป็น ads clicked/ unique user เ...    5.0  \n",
       "178  การใช้ A/B testing ในการทดสอบการย้ายตำแหน่งของ...    3.0  \n",
       "\n",
       "[325 rows x 5 columns]"
      ]
     },
     "execution_count": 6,
     "metadata": {},
     "output_type": "execute_result"
    }
   ],
   "source": [
    "train_df"
   ]
  },
  {
   "cell_type": "code",
   "execution_count": 7,
   "metadata": {},
   "outputs": [
    {
     "data": {
      "text/plain": [
       "[{'role': 'user',\n",
       "  'content': 'Answer: A/B testing ช่วยให้แฮมทาโร่สามารถวัดผลทางการตลาดได้อย่างมีประสิทธิภาพเท่าที่จะเป็นไปได้ โดยในที่นี้คือการวัดผลจากการย้ายตำแหน่งโฆษณาที่เป็นจุดสนใจ. นั่นจะช่วยให้เขาทราบว่าการเปลี่ยนแปลงนี้มีผลต่อการคลิก, การแชร์, หรือยอดขายหรือไม่ โดย A/B testing สามารถแบ่งกลุ่มเป้าหมายได้อย่างเท่าเทียม และ เปรียบเทียบในเชิงสถิติได้'},\n",
       " {'role': 'assistant', 'content': '4.5'},\n",
       " {'role': 'user',\n",
       "  'content': 'Answer: Hamtaro ควรใช้ A/B testing เพราะช่วยให้ Hamtaro รวบรวมข้อมูลการโต้ตอบของผู้ใช้กับตำแหน่งโฆษณาต่างๆ ได้ ช่วยให้เขาตัดสินใจได้อย่างมีข้อมูลโดยพิจารณาจากพฤติกรรมของผู้ใช้จริง นอกจากนี้ยังให้หลักฐานที่เป็นรูปธรรมเกี่ยวกับผลกระทบของการย้ายตำแหน่งของโฆษณาที่มีต่อinteractioinของผู้ใช้ด้วย'},\n",
       " {'role': 'assistant', 'content': '1.5'},\n",
       " {'role': 'user',\n",
       "  'content': 'Answer: ควร เนื่องจากการทำ A/B Testing จะทำให้ได้\\n1. Data-Driven Decisions ไม่ใช่การ \"เดา\"\\n2. Risk Mitigation, หากเปลี่ยนตำแหน่งโฆษณาทั้งหมดเลยอาจทำให้ผลประกอบการ drop ได้ การทำ A/B จะทำให้ได้ลองกับกลุ่มลูกค้าบางส่วนว่าเวิร์คหรือไม่\\n\\nนอกจากนี้ยังจะได้ User Behaviour ว่า Users tend to กดปุ่มไหน หรือไว้ของตรงไหนจะหาเจอหรือไม่เจอ สามารถนำไปใช้กับเรื่องอื่นนอกจาก Ads ได้อีกด้วย'},\n",
       " {'role': 'assistant', 'content': '3.0'},\n",
       " {'role': 'user',\n",
       "  'content': 'Answer: แฮมทาโร่ควรใช้ A/B testing ในการทดสอบว่าการวางตำแหน่งของโฆษณาตรงไหน จะเพิ่มยอดขายได้มากกว่ากัน ซึ่งการใช้ A/B testing จะเป็นการช่วยหาข้อสรุป ช่วยให้สามารถทดสอบผลการเปลี่ยนแปลงในตำแหน่งโฆษณาต่อกลุ่มเป้าหมายที่แตกต่างกัน และ ช่วยลดความเสี่ยงที่อาจเกิดขึ้นจากการย้ายตำแหน่งโฆษณาโดยทันที'},\n",
       " {'role': 'assistant', 'content': '2.0'},\n",
       " {'role': 'user',\n",
       "  'content': 'Answer: ควรใช้ A/B testing เนื่องจากช่วยในการตัดสินใจจากข้อมูลเปรียบผลลัพธ์ระหว่างกลุ่มที่เห็นโฆษณาในตำแหน่งเดิม (กลุ่ม A) และผู้ที่เห็นโฆษณาในตำแหน่งใหม่ (กลุ่ม B) ช่วยให้สามารถดูการเปลี่ยนแปลงได้ อีกทั้งมีความสามารถในการควบคุมปัจจัยรบกวนและตัวแปรอื่นๆ ที่อาจส่งผลต่อผลลัพธ์ โดยการจัดสรรผู้ใช้ โดยการสุ่มเข้าแต่ละกลุ่ม ทำให้มั่นใจได้ว่าผลลัพธ์จะเป็นผลมาจากการเปลี่ยนตำแหน่งโฆษณาเท่านั้นได้อย่างชัดเจนและแม่นยำ ผลลัพธ์จากการทดสอบ A/B สามารถใช้เพื่อพัฒนาและปรับปรุงแพลตฟอร์มอย่างต่อเนื่องหากมีการเปลี่ยนแปลง แต่หากวิธีนี้ไม่ได้ผลก็สามารถทดลองใช้แนวทางใหม่ๆ ได้'},\n",
       " {'role': 'assistant', 'content': '5.0'},\n",
       " {'role': 'user',\n",
       "  'content': 'Answer: เพราะปกติเเล้ว A/B test ไว้ใช้ optimize marketing campaign สำหรับกรณีนี้ คือ hamtaro ต้องการทดสอบว่า การย้ายตำแหน่งของโฆษณามีผลต้อการเพิ่มยอดขายไหม'},\n",
       " {'role': 'assistant', 'content': '0.5'}]"
      ]
     },
     "execution_count": 7,
     "metadata": {},
     "output_type": "execute_result"
    }
   ],
   "source": [
    "# Create system promt\n",
    "base_system_promt = \"\"\"\n",
    "Act as a professor in Computer Engineering Mathematics class and grading the student answer, You will grading the student answer. \n",
    "The student answer is decribing the understanding in the question. The score is between 0 to 5 e.g. 0, 1.5, 2, 3.5, etc.\n",
    "Your Answer must be only number between 0 to 5 and has no other characters.\n",
    "\n",
    "The question is: {question}\n",
    "\"\"\"\n",
    "\n",
    "\n",
    "def get_few_shot_promt(set_id: int):\n",
    "    few_short = []\n",
    "    explored_score = set()\n",
    "    for i, row in train_df[train_df[\"set\"] == f\"Q{set_id}\"].iterrows():\n",
    "        if row[\"score\"] // 1 not in explored_score:\n",
    "            explored_score.add(row[\"score\"] // 1)\n",
    "            few_short.append(\n",
    "                {\n",
    "                    \"role\": \"user\",\n",
    "                    \"content\": f\"Answer: {row['answer']}\",\n",
    "                }\n",
    "            )\n",
    "            few_short.append(\n",
    "                {\n",
    "                    \"role\": \"assistant\",\n",
    "                    \"content\": f\"{row['score']}\",\n",
    "                }\n",
    "            )\n",
    "    return few_short\n",
    "\n",
    "\n",
    "get_few_shot_promt(1)"
   ]
  },
  {
   "cell_type": "code",
   "execution_count": 8,
   "metadata": {},
   "outputs": [],
   "source": [
    "from groq import Groq\n",
    "from tqdm import tqdm\n",
    "import os\n",
    "import re\n",
    "\n",
    "client = Groq(api_key=GROQ_API)"
   ]
  },
  {
   "cell_type": "code",
   "execution_count": 9,
   "metadata": {},
   "outputs": [],
   "source": [
    "answer_pattern = re.compile(r\"\\d+\\.?\\d*\")"
   ]
  },
  {
   "cell_type": "code",
   "execution_count": 10,
   "metadata": {},
   "outputs": [],
   "source": [
    "test_df = pd.read_csv(\"./data/test.csv\")\n",
    "if os.path.exists(\"pure_llm.csv\"):\n",
    "    submission_df = pd.read_csv(\"pure_llm.csv\")\n",
    "else:\n",
    "    submission_df = pd.DataFrame(columns=[\"ID\", \"score\"], dtype=float)\n",
    "    submission_df[\"ID\"] = test_df[\"ID\"]\n",
    "\n",
    "submission_df[\"ID\"] = submission_df[\"ID\"].astype(int)\n",
    "submission_df.set_index(\"ID\", inplace=True)"
   ]
  },
  {
   "cell_type": "code",
   "execution_count": 11,
   "metadata": {},
   "outputs": [
    {
     "name": "stderr",
     "output_type": "stream",
     "text": [
      "ID: 451 - Score: 4.5: 100%|██████████| 90/90 [00:45<00:00,  1.98it/s]\n"
     ]
    }
   ],
   "source": [
    "looper = tqdm(test_df.iterrows(), total=len(test_df))\n",
    "for row in looper:\n",
    "    row = row[1]\n",
    "    if not pd.isna(submission_df.loc[int(row[\"ID\"]), \"score\"]):\n",
    "        continue\n",
    "    test_sample = f\"<Answer>\\n{row['answer']}\\n</Answer>\"\n",
    "    completion = client.chat.completions.create(\n",
    "        model=\"llama-3.3-70b-versatile\",\n",
    "        messages=[\n",
    "            {\"role\": \"system\", \"content\": base_system_promt.format(question=row[\"question\"])},\n",
    "            *get_few_shot_promt(row[\"ID\"]),\n",
    "            {\"role\": \"user\", \"content\": test_sample},\n",
    "        ],\n",
    "        temperature=1e-5,\n",
    "        max_completion_tokens=1024,\n",
    "        top_p=1e-5,\n",
    "        stream=False,\n",
    "        stop=None,\n",
    "    )\n",
    "    llm_answer = completion.choices[0].message.content\n",
    "    try:\n",
    "        score = float(answer_pattern.findall(llm_answer)[0])\n",
    "        if score > 5:\n",
    "            score = 5\n",
    "        elif score < 0:\n",
    "            score = 0\n",
    "        submission_df.loc[row[\"ID\"], \"score\"] = score\n",
    "        looper.set_description(f\"ID: {row['ID']} - Score: {score}\")\n",
    "    except:\n",
    "        print(f\"Error: {llm_answer}\")\n",
    "        print(f\"{completion}\")\n",
    "\n",
    "    submission_df.to_csv(\"pure_llm.csv\", index=True)"
   ]
  }
 ],
 "metadata": {
  "kernelspec": {
   "display_name": "nlp",
   "language": "python",
   "name": "python3"
  },
  "language_info": {
   "codemirror_mode": {
    "name": "ipython",
    "version": 3
   },
   "file_extension": ".py",
   "mimetype": "text/x-python",
   "name": "python",
   "nbconvert_exporter": "python",
   "pygments_lexer": "ipython3",
   "version": "3.11.11"
  }
 },
 "nbformat": 4,
 "nbformat_minor": 2
}
