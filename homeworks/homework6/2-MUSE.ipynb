{
 "cells": [
  {
   "cell_type": "markdown",
   "metadata": {
    "id": "VQ8FRFIYMc5X"
   },
   "source": [
    "# HOMEWORK 6: TEXT CLASSIFICATION\n",
    "In this homework, you will create models to classify texts from TRUE call-center. There are two classification tasks:\n",
    "1. Action Classification: Identify which action the customer would like to take (e.g. enquire, report, cancle)\n",
    "2. Object Classification: Identify which object the customer is referring to (e.g. payment, truemoney, internet, roaming)\n",
    "\n",
    "We will focus only on the Object Classification task for this homework.\n",
    "\n",
    "In this homework, you are asked compare different text classification models in terms of accuracy and inference time.\n",
    "\n",
    "You will need to build 3 different models.\n",
    "\n",
    "1. A model based on tf-idf\n",
    "2. A model based on MUSE\n",
    "3. A model based on wangchanBERTa\n",
    "\n",
    "**You will be ask to submit 3 different files (.pdf from .ipynb) that does the 3 different models. Finally, answer the accuracy and runtime numbers in MCV.**\n",
    "\n",
    "This homework is quite free form, and your answer may vary. We hope that the processing during the course of this assignment will make you think more about the design choices in text classification."
   ]
  },
  {
   "cell_type": "code",
   "execution_count": 1,
   "metadata": {
    "colab": {
     "base_uri": "https://localhost:8080/"
    },
    "id": "kHqkFSyaNvOt",
    "outputId": "879b17f1-0fb2-455c-ca37-b5a4aecd7b1c"
   },
   "outputs": [
    {
     "name": "stdout",
     "output_type": "stream",
     "text": [
      "--2025-02-15 15:16:27--  https://www.dropbox.com/s/37u83g55p19kvrl/clean-phone-data-for-students.csv\n",
      "Resolving www.dropbox.com (www.dropbox.com)... 2620:100:6035:18::a27d:5512, 162.125.85.18\n",
      "Connecting to www.dropbox.com (www.dropbox.com)|2620:100:6035:18::a27d:5512|:443... connected.\n",
      "HTTP request sent, awaiting response... 302 Found\n",
      "Location: https://www.dropbox.com/scl/fi/8h8hvsw9uj6o0524lfe4i/clean-phone-data-for-students.csv?rlkey=lwv5xbf16jerehnv3lfgq5ue6 [following]\n",
      "--2025-02-15 15:16:27--  https://www.dropbox.com/scl/fi/8h8hvsw9uj6o0524lfe4i/clean-phone-data-for-students.csv?rlkey=lwv5xbf16jerehnv3lfgq5ue6\n",
      "Reusing existing connection to [www.dropbox.com]:443.\n",
      "HTTP request sent, awaiting response... 302 Found\n",
      "Location: https://ucce80429c1d534064b3a6d9f042.dl.dropboxusercontent.com/cd/0/inline/CkLrInUX8rJuXukZ2pmOzA1HWeZom4RNG8zDhuaHFgq8tstOR_tnzyAFQ3iEnfk_Fx6P_-A9Wj4lfFOyOCyoxitwt87cnAUsfapo-_JGMOIkPKLHuAP2Qt95FY2lHQTz6BU/file# [following]\n",
      "--2025-02-15 15:16:28--  https://ucce80429c1d534064b3a6d9f042.dl.dropboxusercontent.com/cd/0/inline/CkLrInUX8rJuXukZ2pmOzA1HWeZom4RNG8zDhuaHFgq8tstOR_tnzyAFQ3iEnfk_Fx6P_-A9Wj4lfFOyOCyoxitwt87cnAUsfapo-_JGMOIkPKLHuAP2Qt95FY2lHQTz6BU/file\n",
      "Resolving ucce80429c1d534064b3a6d9f042.dl.dropboxusercontent.com (ucce80429c1d534064b3a6d9f042.dl.dropboxusercontent.com)... 2620:100:6035:15::a27d:550f, 162.125.85.15\n",
      "Connecting to ucce80429c1d534064b3a6d9f042.dl.dropboxusercontent.com (ucce80429c1d534064b3a6d9f042.dl.dropboxusercontent.com)|2620:100:6035:15::a27d:550f|:443... connected.\n",
      "HTTP request sent, awaiting response... 200 OK\n",
      "Length: 2518977 (2.4M) [text/plain]\n",
      "Saving to: ‘./clean-phone-data-for-students.csv’\n",
      "\n",
      "./clean-phone-data- 100%[===================>]   2.40M  4.07MB/s    in 0.6s    \n",
      "\n",
      "2025-02-15 15:16:30 (4.07 MB/s) - ‘./clean-phone-data-for-students.csv’ saved [2518977/2518977]\n",
      "\n"
     ]
    }
   ],
   "source": [
    "!wget --no-check-certificate https://www.dropbox.com/s/37u83g55p19kvrl/clean-phone-data-for-students.csv -O ./clean-phone-data-for-students.csv"
   ]
  },
  {
   "cell_type": "code",
   "execution_count": 2,
   "metadata": {
    "colab": {
     "base_uri": "https://localhost:8080/"
    },
    "id": "qRlx5Mb5zkXw",
    "outputId": "18d913e0-aa6d-435b-931d-591386cb4ba8"
   },
   "outputs": [],
   "source": [
    "!pip install -q pythainlp"
   ]
  },
  {
   "cell_type": "markdown",
   "metadata": {
    "id": "2YprqbOPMc5a"
   },
   "source": [
    "## Import Libs"
   ]
  },
  {
   "cell_type": "code",
   "execution_count": 3,
   "metadata": {},
   "outputs": [],
   "source": [
    "%matplotlib inline\n",
    "import pandas\n",
    "import sklearn\n",
    "import numpy as np\n",
    "import time\n",
    "import matplotlib.pyplot as plt\n",
    "import pandas as pd\n",
    "from pprint import pprint\n",
    "\n",
    "from torch.utils.data import Dataset\n",
    "from IPython.display import display\n",
    "from collections import defaultdict\n",
    "from sklearn.metrics import accuracy_score"
   ]
  },
  {
   "cell_type": "markdown",
   "metadata": {},
   "source": [
    "## Loading data\n",
    "First, we load the data from disk into a Dataframe.\n",
    "\n",
    "A Dataframe is essentially a table, or 2D-array/Matrix with a name for each column."
   ]
  },
  {
   "cell_type": "code",
   "execution_count": 4,
   "metadata": {},
   "outputs": [],
   "source": [
    "data_df = pd.read_csv(\"clean-phone-data-for-students.csv\")"
   ]
  },
  {
   "cell_type": "markdown",
   "metadata": {},
   "source": [
    "Let's preview the data."
   ]
  },
  {
   "cell_type": "code",
   "execution_count": 5,
   "metadata": {},
   "outputs": [
    {
     "data": {
      "text/html": [
       "<div>\n",
       "<style scoped>\n",
       "    .dataframe tbody tr th:only-of-type {\n",
       "        vertical-align: middle;\n",
       "    }\n",
       "\n",
       "    .dataframe tbody tr th {\n",
       "        vertical-align: top;\n",
       "    }\n",
       "\n",
       "    .dataframe thead th {\n",
       "        text-align: right;\n",
       "    }\n",
       "</style>\n",
       "<table border=\"1\" class=\"dataframe\">\n",
       "  <thead>\n",
       "    <tr style=\"text-align: right;\">\n",
       "      <th></th>\n",
       "      <th>Sentence Utterance</th>\n",
       "      <th>Action</th>\n",
       "      <th>Object</th>\n",
       "    </tr>\n",
       "  </thead>\n",
       "  <tbody>\n",
       "    <tr>\n",
       "      <th>0</th>\n",
       "      <td>&lt;PHONE_NUMBER_REMOVED&gt; ผมไปจ่ายเงินที่ Counte...</td>\n",
       "      <td>enquire</td>\n",
       "      <td>payment</td>\n",
       "    </tr>\n",
       "    <tr>\n",
       "      <th>1</th>\n",
       "      <td>internet ยังความเร็วอยุ่เท่าไหร ครับ</td>\n",
       "      <td>enquire</td>\n",
       "      <td>package</td>\n",
       "    </tr>\n",
       "    <tr>\n",
       "      <th>2</th>\n",
       "      <td>ตะกี้ไปชำระค่าบริการไปแล้ว แต่ยังใช้งานไม่ได้...</td>\n",
       "      <td>report</td>\n",
       "      <td>suspend</td>\n",
       "    </tr>\n",
       "    <tr>\n",
       "      <th>3</th>\n",
       "      <td>พี่ค่ะยังใช้ internet ไม่ได้เลยค่ะ เป็นเครื่อ...</td>\n",
       "      <td>enquire</td>\n",
       "      <td>internet</td>\n",
       "    </tr>\n",
       "    <tr>\n",
       "      <th>4</th>\n",
       "      <td>ฮาโหล คะ พอดีว่าเมื่อวานเปิดซิมทรูมูฟ แต่มันโ...</td>\n",
       "      <td>report</td>\n",
       "      <td>phone_issues</td>\n",
       "    </tr>\n",
       "  </tbody>\n",
       "</table>\n",
       "</div>"
      ],
      "text/plain": [
       "                                  Sentence Utterance   Action        Object\n",
       "0   <PHONE_NUMBER_REMOVED> ผมไปจ่ายเงินที่ Counte...  enquire       payment\n",
       "1               internet ยังความเร็วอยุ่เท่าไหร ครับ  enquire       package\n",
       "2   ตะกี้ไปชำระค่าบริการไปแล้ว แต่ยังใช้งานไม่ได้...   report       suspend\n",
       "3   พี่ค่ะยังใช้ internet ไม่ได้เลยค่ะ เป็นเครื่อ...  enquire      internet\n",
       "4   ฮาโหล คะ พอดีว่าเมื่อวานเปิดซิมทรูมูฟ แต่มันโ...   report  phone_issues"
      ]
     },
     "metadata": {},
     "output_type": "display_data"
    },
    {
     "data": {
      "text/html": [
       "<div>\n",
       "<style scoped>\n",
       "    .dataframe tbody tr th:only-of-type {\n",
       "        vertical-align: middle;\n",
       "    }\n",
       "\n",
       "    .dataframe tbody tr th {\n",
       "        vertical-align: top;\n",
       "    }\n",
       "\n",
       "    .dataframe thead th {\n",
       "        text-align: right;\n",
       "    }\n",
       "</style>\n",
       "<table border=\"1\" class=\"dataframe\">\n",
       "  <thead>\n",
       "    <tr style=\"text-align: right;\">\n",
       "      <th></th>\n",
       "      <th>Sentence Utterance</th>\n",
       "      <th>Action</th>\n",
       "      <th>Object</th>\n",
       "    </tr>\n",
       "  </thead>\n",
       "  <tbody>\n",
       "    <tr>\n",
       "      <th>count</th>\n",
       "      <td>16175</td>\n",
       "      <td>16175</td>\n",
       "      <td>16175</td>\n",
       "    </tr>\n",
       "    <tr>\n",
       "      <th>unique</th>\n",
       "      <td>13389</td>\n",
       "      <td>10</td>\n",
       "      <td>33</td>\n",
       "    </tr>\n",
       "    <tr>\n",
       "      <th>top</th>\n",
       "      <td>บริการอื่นๆ</td>\n",
       "      <td>enquire</td>\n",
       "      <td>service</td>\n",
       "    </tr>\n",
       "    <tr>\n",
       "      <th>freq</th>\n",
       "      <td>97</td>\n",
       "      <td>10377</td>\n",
       "      <td>2525</td>\n",
       "    </tr>\n",
       "  </tbody>\n",
       "</table>\n",
       "</div>"
      ],
      "text/plain": [
       "       Sentence Utterance   Action   Object\n",
       "count               16175    16175    16175\n",
       "unique              13389       10       33\n",
       "top           บริการอื่นๆ  enquire  service\n",
       "freq                   97    10377     2525"
      ]
     },
     "execution_count": 5,
     "metadata": {},
     "output_type": "execute_result"
    }
   ],
   "source": [
    "# Show the top 5 rows\n",
    "display(data_df.head())\n",
    "# Summarize the data\n",
    "data_df.describe()"
   ]
  },
  {
   "cell_type": "markdown",
   "metadata": {},
   "source": [
    "## Data cleaning\n",
    "\n",
    "We call the DataFrame.describe() again.\n",
    "Notice that there are 33 unique labels/classes for object and 10 unique labels for action that the model will try to predict.\n",
    "But there are unwanted duplications e.g. Idd,idd,lotalty_card,Lotalty_card\n",
    "\n",
    "Also note that, there are 13389 unqiue sentence utterances from 16175 utterances. You have to clean that too!\n",
    "\n",
    "## #TODO 0.1:\n",
    "You will have to remove unwanted label duplications as well as duplications in text inputs.\n",
    "Also, you will have to trim out unwanted whitespaces from the text inputs.\n",
    "This shouldn't be too hard, as you have already seen it in the demo.\n",
    "\n"
   ]
  },
  {
   "cell_type": "code",
   "execution_count": 6,
   "metadata": {},
   "outputs": [
    {
     "data": {
      "text/html": [
       "<div>\n",
       "<style scoped>\n",
       "    .dataframe tbody tr th:only-of-type {\n",
       "        vertical-align: middle;\n",
       "    }\n",
       "\n",
       "    .dataframe tbody tr th {\n",
       "        vertical-align: top;\n",
       "    }\n",
       "\n",
       "    .dataframe thead th {\n",
       "        text-align: right;\n",
       "    }\n",
       "</style>\n",
       "<table border=\"1\" class=\"dataframe\">\n",
       "  <thead>\n",
       "    <tr style=\"text-align: right;\">\n",
       "      <th></th>\n",
       "      <th>Sentence Utterance</th>\n",
       "      <th>Action</th>\n",
       "      <th>Object</th>\n",
       "    </tr>\n",
       "  </thead>\n",
       "  <tbody>\n",
       "    <tr>\n",
       "      <th>count</th>\n",
       "      <td>16175</td>\n",
       "      <td>16175</td>\n",
       "      <td>16175</td>\n",
       "    </tr>\n",
       "    <tr>\n",
       "      <th>unique</th>\n",
       "      <td>13389</td>\n",
       "      <td>10</td>\n",
       "      <td>33</td>\n",
       "    </tr>\n",
       "    <tr>\n",
       "      <th>top</th>\n",
       "      <td>บริการอื่นๆ</td>\n",
       "      <td>enquire</td>\n",
       "      <td>service</td>\n",
       "    </tr>\n",
       "    <tr>\n",
       "      <th>freq</th>\n",
       "      <td>97</td>\n",
       "      <td>10377</td>\n",
       "      <td>2525</td>\n",
       "    </tr>\n",
       "  </tbody>\n",
       "</table>\n",
       "</div>"
      ],
      "text/plain": [
       "       Sentence Utterance   Action   Object\n",
       "count               16175    16175    16175\n",
       "unique              13389       10       33\n",
       "top           บริการอื่นๆ  enquire  service\n",
       "freq                   97    10377     2525"
      ]
     },
     "metadata": {},
     "output_type": "display_data"
    },
    {
     "data": {
      "text/plain": [
       "array(['payment', 'package', 'suspend', 'internet', 'phone_issues',\n",
       "       'service', 'nonTrueMove', 'balance', 'detail', 'bill', 'credit',\n",
       "       'promotion', 'mobile_setting', 'iservice', 'roaming', 'truemoney',\n",
       "       'information', 'lost_stolen', 'balance_minutes', 'idd',\n",
       "       'TrueMoney', 'garbage', 'Payment', 'IDD', 'ringtone', 'Idd',\n",
       "       'rate', 'loyalty_card', 'contact', 'officer', 'Balance', 'Service',\n",
       "       'Loyalty_card'], dtype=object)"
      ]
     },
     "metadata": {},
     "output_type": "display_data"
    },
    {
     "data": {
      "text/plain": [
       "array(['enquire', 'report', 'cancel', 'Enquire', 'buy', 'activate',\n",
       "       'request', 'Report', 'garbage', 'change'], dtype=object)"
      ]
     },
     "metadata": {},
     "output_type": "display_data"
    }
   ],
   "source": [
    "display(data_df.describe())\n",
    "display(data_df.Object.unique())\n",
    "display(data_df.Action.unique())"
   ]
  },
  {
   "cell_type": "code",
   "execution_count": 7,
   "metadata": {},
   "outputs": [],
   "source": [
    "clean_data_time = time.time()\n",
    "\n",
    "# Group the duplicate label\n",
    "data_df.dropna(subset=[\"Object\"], inplace=True)\n",
    "data_df[\"Object\"] = data_df[\"Object\"].apply(lambda x: x.lower())\n",
    "\n",
    "# Clean the data\n",
    "data_df[\"Sentence Utterance\"] = data_df[\"Sentence Utterance\"].apply(lambda x: str(x).strip())\n",
    "data_df[\"Sentence Utterance\"] = data_df[\"Sentence Utterance\"].apply(lambda x: x.lower())\n",
    "data_df.drop_duplicates(subset=[\"Sentence Utterance\"], inplace=True)\n",
    "\n",
    "# Drop the unused columns\n",
    "data_df.drop(columns=[\"Action\"], inplace=True)\n",
    "\n",
    "clean_data_time = time.time() - clean_data_time"
   ]
  },
  {
   "cell_type": "markdown",
   "metadata": {},
   "source": [
    "Split data into train, valdation, and test sets (normally the ratio will be 80:10:10 , respectively). We recommend to use train_test_spilt from scikit-learn to split the data into train, validation, test set.\n",
    "\n",
    "In addition, it should split the data that distribution of the labels in train, validation, test set are similar. There is **stratify** option to handle this issue.\n",
    "\n",
    "https://scikit-learn.org/stable/modules/generated/sklearn.model_selection.train_test_split.html\n",
    "\n",
    "Make sure the same data splitting is used for all models."
   ]
  },
  {
   "cell_type": "code",
   "execution_count": 8,
   "metadata": {},
   "outputs": [
    {
     "name": "stdout",
     "output_type": "stream",
     "text": [
      "Train size: 10689\n",
      "Test size: 1336\n",
      "Val size: 1337\n"
     ]
    }
   ],
   "source": [
    "from sklearn.model_selection import train_test_split\n",
    "from collections import Counter\n",
    "\n",
    "split_data_time = time.time()\n",
    "\n",
    "# For the object column, we will only keep the object that has more than 2% of the total data\n",
    "object_counter = Counter(data_df[\"Object\"])\n",
    "stratify_col = data_df[\"Object\"].apply(lambda x: \"other\" if object_counter[x] < 0.02 * len(data_df) else x)\n",
    "train_df, test_df = train_test_split(data_df, test_size=0.2, random_state=4242, stratify=stratify_col)\n",
    "\n",
    "object_counter = Counter(test_df[\"Object\"])\n",
    "stratify_col = test_df[\"Object\"].apply(lambda x: \"other\" if object_counter[x] < 0.02 * len(test_df) else x)\n",
    "test_df, val_df = train_test_split(test_df, test_size=0.5, random_state=4242, stratify=stratify_col)\n",
    "\n",
    "train_df = train_df.reset_index(drop=True)\n",
    "test_df = test_df.reset_index(drop=True)\n",
    "val_df = val_df.reset_index(drop=True)\n",
    "\n",
    "print(f\"Train size: {len(train_df)}\")\n",
    "print(f\"Test size: {len(test_df)}\")\n",
    "print(f\"Val size: {len(val_df)}\")\n",
    "\n",
    "split_data_time = time.time() - split_data_time"
   ]
  },
  {
   "cell_type": "code",
   "execution_count": 9,
   "metadata": {},
   "outputs": [],
   "source": [
    "# Save the data\n",
    "# train_df.to_csv('train.csv', index=False)\n",
    "# test_df.to_csv('test.csv', index=False)\n",
    "# val_df.to_csv('val.csv', index=False)"
   ]
  },
  {
   "cell_type": "markdown",
   "metadata": {
    "id": "wql2YeU8qFQ6"
   },
   "source": [
    "# Model 2 MUSE\n",
    "\n",
    "Build a simple logistic regression model using features from the MUSE model.\n",
    "\n",
    "Which MUSE model will you use? Why?\n",
    "\n",
    "**Ans:** `sentence-transformers/use-cmlm-multilingual` because it is easy to use and was trained on many languages(100+). The community also has a lot of good feedback on this model. (about 3,000 downloads last month)\n",
    "\n",
    "MUSE is typically used with tensorflow. However, there are some pytorch conversions made by some people.\n",
    "\n",
    "https://huggingface.co/sentence-transformers/use-cmlm-multilingual\n",
    "https://huggingface.co/dayyass/universal-sentence-encoder-multilingual-large-3-pytorch"
   ]
  },
  {
   "cell_type": "code",
   "execution_count": 10,
   "metadata": {
    "id": "d3UtkpaLnctH"
   },
   "outputs": [],
   "source": [
    "!pip install -qU sentence-transformers"
   ]
  },
  {
   "cell_type": "code",
   "execution_count": 11,
   "metadata": {},
   "outputs": [],
   "source": [
    "import pandas as pd\n",
    "from sklearn.linear_model import LogisticRegression\n",
    "from sklearn.metrics import classification_report, accuracy_score\n",
    "from sentence_transformers import SentenceTransformer"
   ]
  },
  {
   "cell_type": "code",
   "execution_count": 12,
   "metadata": {},
   "outputs": [],
   "source": [
    "train_df, test_df, val_df = pd.read_csv(\"train.csv\"), pd.read_csv(\"test.csv\"), pd.read_csv(\"val.csv\")"
   ]
  },
  {
   "cell_type": "code",
   "execution_count": 13,
   "metadata": {},
   "outputs": [
    {
     "name": "stderr",
     "output_type": "stream",
     "text": [
      "Some weights of the model checkpoint at sentence-transformers/use-cmlm-multilingual were not used when initializing BertModel: ['cls.predictions.bias', 'cls.predictions.transform.LayerNorm.bias', 'cls.predictions.transform.LayerNorm.weight', 'cls.predictions.transform.dense.bias', 'cls.predictions.transform.dense.weight', 'cls.seq_relationship.bias', 'cls.seq_relationship.weight']\n",
      "- This IS expected if you are initializing BertModel from the checkpoint of a model trained on another task or with another architecture (e.g. initializing a BertForSequenceClassification model from a BertForPreTraining model).\n",
      "- This IS NOT expected if you are initializing BertModel from the checkpoint of a model that you expect to be exactly identical (initializing a BertForSequenceClassification model from a BertForSequenceClassification model).\n"
     ]
    }
   ],
   "source": [
    "encoder_model = SentenceTransformer(\"sentence-transformers/use-cmlm-multilingual\")"
   ]
  },
  {
   "cell_type": "code",
   "execution_count": 14,
   "metadata": {},
   "outputs": [
    {
     "data": {
      "application/vnd.jupyter.widget-view+json": {
       "model_id": "64c9d03255c048fba0e7ea9a0d4222dc",
       "version_major": 2,
       "version_minor": 0
      },
      "text/plain": [
       "Batches:   0%|          | 0/335 [00:00<?, ?it/s]"
      ]
     },
     "metadata": {},
     "output_type": "display_data"
    },
    {
     "data": {
      "application/vnd.jupyter.widget-view+json": {
       "model_id": "6db7f111835b4ed7a8dcd6eb54529a5c",
       "version_major": 2,
       "version_minor": 0
      },
      "text/plain": [
       "Batches:   0%|          | 0/42 [00:00<?, ?it/s]"
      ]
     },
     "metadata": {},
     "output_type": "display_data"
    },
    {
     "data": {
      "application/vnd.jupyter.widget-view+json": {
       "model_id": "9bdb04a1d230470b94f8f44dd5dbd22f",
       "version_major": 2,
       "version_minor": 0
      },
      "text/plain": [
       "Batches:   0%|          | 0/42 [00:00<?, ?it/s]"
      ]
     },
     "metadata": {},
     "output_type": "display_data"
    }
   ],
   "source": [
    "encoder_time = time.time()\n",
    "\n",
    "train_x = encoder_model.encode(train_df[\"Sentence Utterance\"].values, show_progress_bar=True)\n",
    "test_x = encoder_model.encode(test_df[\"Sentence Utterance\"].values, show_progress_bar=True)\n",
    "val_x = encoder_model.encode(val_df[\"Sentence Utterance\"].values, show_progress_bar=True)\n",
    "\n",
    "train_y = train_df[\"Object\"]\n",
    "test_y = test_df[\"Object\"]\n",
    "val_y = val_df[\"Object\"]\n",
    "\n",
    "encoder_time = time.time() - encoder_time"
   ]
  },
  {
   "cell_type": "code",
   "execution_count": 15,
   "metadata": {},
   "outputs": [],
   "source": [
    "train_time = time.time()\n",
    "\n",
    "model = LogisticRegression(max_iter=1000, penalty=\"elasticnet\", solver=\"saga\", l1_ratio=0.5, C=1.0, n_jobs=-1)\n",
    "model.fit(train_x, train_y)\n",
    "\n",
    "train_time = time.time() - train_time"
   ]
  },
  {
   "cell_type": "code",
   "execution_count": 16,
   "metadata": {},
   "outputs": [
    {
     "name": "stdout",
     "output_type": "stream",
     "text": [
      "Train accuracy: 0.7254186546917392\n",
      "Test accuracy: 0.7148203592814372\n",
      "Val accuracy: 0.7120418848167539\n"
     ]
    }
   ],
   "source": [
    "all_inference_time = time.time()\n",
    "\n",
    "# Predict the data\n",
    "train_pred = model.predict(train_x)\n",
    "test_pred = model.predict(test_x)\n",
    "val_pred = model.predict(val_x)\n",
    "\n",
    "all_inference_time = time.time() - all_inference_time\n",
    "\n",
    "# Calculate the accuracy\n",
    "train_acc = accuracy_score(train_y, train_pred)\n",
    "test_acc = accuracy_score(test_y, test_pred)\n",
    "val_acc = accuracy_score(val_y, val_pred)\n",
    "\n",
    "print(f\"Train accuracy: {train_acc}\")\n",
    "print(f\"Test accuracy: {test_acc}\")\n",
    "print(f\"Val accuracy: {val_acc}\")"
   ]
  },
  {
   "cell_type": "code",
   "execution_count": 17,
   "metadata": {},
   "outputs": [
    {
     "name": "stdout",
     "output_type": "stream",
     "text": [
      "Val classification report\n",
      "                 precision    recall  f1-score   support\n",
      "\n",
      "        balance       0.73      0.83      0.78       148\n",
      "balance_minutes       0.00      0.00      0.00         5\n",
      "           bill       0.62      0.52      0.57        54\n",
      "         credit       1.00      0.65      0.79        17\n",
      "         detail       0.50      0.27      0.35        33\n",
      "        garbage       0.00      0.00      0.00         6\n",
      "            idd       0.91      0.71      0.80        14\n",
      "    information       0.64      0.48      0.55        29\n",
      "       internet       0.69      0.83      0.76       179\n",
      "       iservice       0.00      0.00      0.00         3\n",
      "    lost_stolen       0.96      0.77      0.85        30\n",
      "   loyalty_card       1.00      0.25      0.40         8\n",
      " mobile_setting       0.57      0.14      0.23        28\n",
      "    nontruemove       0.60      0.14      0.23        21\n",
      "        officer       0.00      0.00      0.00         1\n",
      "        package       0.65      0.75      0.70       179\n",
      "        payment       0.69      0.72      0.70        64\n",
      "   phone_issues       0.61      0.67      0.64        58\n",
      "      promotion       0.72      0.70      0.71       115\n",
      "           rate       0.00      0.00      0.00         6\n",
      "       ringtone       0.88      0.64      0.74        11\n",
      "        roaming       0.76      0.76      0.76        17\n",
      "        service       0.77      0.84      0.80       211\n",
      "        suspend       0.73      0.77      0.75        73\n",
      "      truemoney       0.92      0.85      0.88        27\n",
      "\n",
      "       accuracy                           0.71      1337\n",
      "      macro avg       0.60      0.49      0.52      1337\n",
      "   weighted avg       0.70      0.71      0.70      1337\n",
      "\n"
     ]
    },
    {
     "name": "stderr",
     "output_type": "stream",
     "text": [
      "/Users/jirayuwat/anaconda3/envs/nlp/lib/python3.11/site-packages/sklearn/metrics/_classification.py:1565: UndefinedMetricWarning: Precision is ill-defined and being set to 0.0 in labels with no predicted samples. Use `zero_division` parameter to control this behavior.\n",
      "  _warn_prf(average, modifier, f\"{metric.capitalize()} is\", len(result))\n",
      "/Users/jirayuwat/anaconda3/envs/nlp/lib/python3.11/site-packages/sklearn/metrics/_classification.py:1565: UndefinedMetricWarning: Precision is ill-defined and being set to 0.0 in labels with no predicted samples. Use `zero_division` parameter to control this behavior.\n",
      "  _warn_prf(average, modifier, f\"{metric.capitalize()} is\", len(result))\n",
      "/Users/jirayuwat/anaconda3/envs/nlp/lib/python3.11/site-packages/sklearn/metrics/_classification.py:1565: UndefinedMetricWarning: Precision is ill-defined and being set to 0.0 in labels with no predicted samples. Use `zero_division` parameter to control this behavior.\n",
      "  _warn_prf(average, modifier, f\"{metric.capitalize()} is\", len(result))\n",
      "/Users/jirayuwat/anaconda3/envs/nlp/lib/python3.11/site-packages/sklearn/metrics/_classification.py:1565: UndefinedMetricWarning: Precision is ill-defined and being set to 0.0 in labels with no predicted samples. Use `zero_division` parameter to control this behavior.\n",
      "  _warn_prf(average, modifier, f\"{metric.capitalize()} is\", len(result))\n",
      "/Users/jirayuwat/anaconda3/envs/nlp/lib/python3.11/site-packages/sklearn/metrics/_classification.py:1565: UndefinedMetricWarning: Precision is ill-defined and being set to 0.0 in labels with no predicted samples. Use `zero_division` parameter to control this behavior.\n",
      "  _warn_prf(average, modifier, f\"{metric.capitalize()} is\", len(result))\n",
      "/Users/jirayuwat/anaconda3/envs/nlp/lib/python3.11/site-packages/sklearn/metrics/_classification.py:1565: UndefinedMetricWarning: Precision is ill-defined and being set to 0.0 in labels with no predicted samples. Use `zero_division` parameter to control this behavior.\n",
      "  _warn_prf(average, modifier, f\"{metric.capitalize()} is\", len(result))\n"
     ]
    }
   ],
   "source": [
    "# Print the classification report\n",
    "print(\"Val classification report\")\n",
    "print(classification_report(val_y, val_pred))\n",
    "\n",
    "import pickle\n",
    "\n",
    "# Save the classificaion report\n",
    "classification_report_dict = classification_report(val_y, val_pred, output_dict=True)\n",
    "with open(\"classification_report_muse.pkl\", \"wb\") as f:\n",
    "    pickle.dump(classification_report_dict, f)"
   ]
  },
  {
   "cell_type": "code",
   "execution_count": 18,
   "metadata": {},
   "outputs": [
    {
     "name": "stdout",
     "output_type": "stream",
     "text": [
      "All preprocessing time: 45.99 seconds\n",
      " - Clean data time: 0.01 seconds\n",
      " - Split data time: 0.01 seconds\n",
      " - Encoder time: 45.96 seconds\n",
      "Training time: 24.70 seconds\n",
      "Inference time: 0.01 seconds\n"
     ]
    }
   ],
   "source": [
    "print(\n",
    "    f\"\"\"\n",
    "All preprocessing time: {clean_data_time + split_data_time + encoder_time:.2f} seconds\n",
    " - Clean data time: {clean_data_time:.2f} seconds\n",
    " - Split data time: {split_data_time:.2f} seconds\n",
    " - Encoder time: {encoder_time:.2f} seconds\n",
    "Training time: {train_time:.2f} seconds\n",
    "Inference time: {all_inference_time:.2f} seconds\n",
    "\"\"\".strip()\n",
    ")"
   ]
  }
 ],
 "metadata": {
  "colab": {
   "provenance": [],
   "toc_visible": true
  },
  "gpuClass": "standard",
  "kernelspec": {
   "display_name": "nlp",
   "language": "python",
   "name": "python3"
  },
  "language_info": {
   "codemirror_mode": {
    "name": "ipython",
    "version": 3
   },
   "file_extension": ".py",
   "mimetype": "text/x-python",
   "name": "python",
   "nbconvert_exporter": "python",
   "pygments_lexer": "ipython3",
   "version": "3.11.11"
  }
 },
 "nbformat": 4,
 "nbformat_minor": 0
}
