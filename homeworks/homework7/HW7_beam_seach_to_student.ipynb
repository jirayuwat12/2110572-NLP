{
 "cells": [
  {
   "cell_type": "markdown",
   "id": "pDRbfJqgPfdr",
   "metadata": {
    "id": "pDRbfJqgPfdr"
   },
   "source": [
    "# HW7: Beam Search Decoding - News Headline Generation"
   ]
  },
  {
   "cell_type": "markdown",
   "id": "fSDxXAqSPeBB",
   "metadata": {
    "id": "fSDxXAqSPeBB"
   },
   "source": [
    "In this exercise, you are going to learn and implement decoding techniques for sequence generation. Usually, the sequence is generated word-by-word from a model. In each step, the model predicted the most likely word based on the predicted words in previous steps (this is called auto-regressive decoding).\n",
    "\n",
    "As such, it is very important how you decide on what to predicted at each step, as it will be conditioned on to predicted all of the following steps. We will implement two of main decoding techniques introduced in the lecture: **Greedy Decoding** and **Beam Search Decoding**. Greedy Decoding immediately chooses the word with best score at each step, while Beam Search Decoding focuses on the sequence that give the best score overall.\n",
    "\n",
    "To complete this exercise, you will need to complete the methods for decoding for a text generation model trained on [New York Times Comments and Headlines dataset](https://www.kaggle.com/aashita/nyt-comments). The model is trained to predict a headline for the news given seed text. You do not need to train any model model in this exercise as we provide both the pretrained model and dictionary.\n"
   ]
  },
  {
   "cell_type": "markdown",
   "id": "YFlSAvCfiZXf",
   "metadata": {
    "id": "YFlSAvCfiZXf"
   },
   "source": [
    "## Download model and vocab and setup"
   ]
  },
  {
   "cell_type": "code",
   "execution_count": 1,
   "id": "q5gRmwtdiYjp",
   "metadata": {
    "id": "q5gRmwtdiYjp"
   },
   "outputs": [
    {
     "name": "stdout",
     "output_type": "stream",
     "text": [
      "--2025-02-22 11:56:18--  https://www.dropbox.com/s/ht12ua9vpkep6l8/hw9_vocab.txt\n",
      "Resolving www.dropbox.com (www.dropbox.com)... 162.125.85.18\n",
      "Connecting to www.dropbox.com (www.dropbox.com)|162.125.85.18|:443... connected.\n",
      "HTTP request sent, awaiting response... 302 Found\n",
      "Location: https://www.dropbox.com/scl/fi/zlkw3il9cj4c121vtrrxh/hw9_vocab.txt?rlkey=m5gflik1lhvpenwydd3gfwvp7 [following]\n",
      "--2025-02-22 11:56:19--  https://www.dropbox.com/scl/fi/zlkw3il9cj4c121vtrrxh/hw9_vocab.txt?rlkey=m5gflik1lhvpenwydd3gfwvp7\n",
      "Reusing existing connection to www.dropbox.com:443.\n",
      "HTTP request sent, awaiting response... 302 Found\n",
      "Location: https://uc307f312445e2f20cce032270c1.dl.dropboxusercontent.com/cd/0/inline/CknGZFxV34jXEfFAez0WxqYkS7EZrCDjPyqd9xdVYTzA19UodJEqgda2lqUvIgcA8JYZMSM4honyqe3rAU5THSpAGkSEUPLgk3urYjLn6VF2zSghugysfPs931uS1DV6r-EwvYM5Fckd8YrFAATgO4lR/file# [following]\n",
      "--2025-02-22 11:56:19--  https://uc307f312445e2f20cce032270c1.dl.dropboxusercontent.com/cd/0/inline/CknGZFxV34jXEfFAez0WxqYkS7EZrCDjPyqd9xdVYTzA19UodJEqgda2lqUvIgcA8JYZMSM4honyqe3rAU5THSpAGkSEUPLgk3urYjLn6VF2zSghugysfPs931uS1DV6r-EwvYM5Fckd8YrFAATgO4lR/file\n",
      "Resolving uc307f312445e2f20cce032270c1.dl.dropboxusercontent.com (uc307f312445e2f20cce032270c1.dl.dropboxusercontent.com)... 162.125.85.15\n",
      "Connecting to uc307f312445e2f20cce032270c1.dl.dropboxusercontent.com (uc307f312445e2f20cce032270c1.dl.dropboxusercontent.com)|162.125.85.15|:443... connected.\n",
      "HTTP request sent, awaiting response... 200 OK\n",
      "Length: 78729 (77K) [text/plain]\n",
      "Saving to: ‘vocab.txt’\n",
      "\n",
      "vocab.txt           100%[===================>]  76.88K   299KB/s    in 0.3s    \n",
      "\n",
      "2025-02-22 11:56:21 (299 KB/s) - ‘vocab.txt’ saved [78729/78729]\n",
      "\n",
      "--2025-02-22 11:56:21--  https://www.dropbox.com/s/okmri7cnd729rr5/hw9_model.bin\n",
      "Resolving www.dropbox.com (www.dropbox.com)... 162.125.85.18\n",
      "Connecting to www.dropbox.com (www.dropbox.com)|162.125.85.18|:443... connected.\n",
      "HTTP request sent, awaiting response... 302 Found\n",
      "Location: https://www.dropbox.com/scl/fi/es8o6240q6qogbulewk2s/hw9_model.bin?rlkey=r4rjl9zuwwg72g7ws5mecv47r [following]\n",
      "--2025-02-22 11:56:22--  https://www.dropbox.com/scl/fi/es8o6240q6qogbulewk2s/hw9_model.bin?rlkey=r4rjl9zuwwg72g7ws5mecv47r\n",
      "Reusing existing connection to www.dropbox.com:443.\n",
      "HTTP request sent, awaiting response... 302 Found\n",
      "Location: https://uca5258fac172e44c77f633e9f33.dl.dropboxusercontent.com/cd/0/inline/CknzEgVNAbD1QpXfUAq1gzM-1GAJyhozr-bXCAiYQQXHzJPr3FgHEe2YN3rGB31NO6oAvSm07ljZRXmnbv99C3R1yU7svup4eae3bNgtPMa7QaXLu2oEreBW7moTpPMfyy1RZ4BDph5Hdxmvgt59A6mu/file# [following]\n",
      "--2025-02-22 11:56:22--  https://uca5258fac172e44c77f633e9f33.dl.dropboxusercontent.com/cd/0/inline/CknzEgVNAbD1QpXfUAq1gzM-1GAJyhozr-bXCAiYQQXHzJPr3FgHEe2YN3rGB31NO6oAvSm07ljZRXmnbv99C3R1yU7svup4eae3bNgtPMa7QaXLu2oEreBW7moTpPMfyy1RZ4BDph5Hdxmvgt59A6mu/file\n",
      "Resolving uca5258fac172e44c77f633e9f33.dl.dropboxusercontent.com (uca5258fac172e44c77f633e9f33.dl.dropboxusercontent.com)... 162.125.85.15\n",
      "Connecting to uca5258fac172e44c77f633e9f33.dl.dropboxusercontent.com (uca5258fac172e44c77f633e9f33.dl.dropboxusercontent.com)|162.125.85.15|:443... connected.\n",
      "HTTP request sent, awaiting response... 302 Found\n",
      "Location: /cd/0/inline2/Ckl2Xc_cxxdaBWVe5r_40p906bjel0CQwAxPe1_nq37b6MJxQyPOCGYrGKSBy-B1eY1SLbCkCY_vtgtWsXJePp0wmTG35_Imb7e_WvUawCrqF6-seBRZy70y_w6nTkk4Izhogx00mp9qJlE1ASlBPv8rLKWFENHWqIlEqtZu0-c29juyzKPFlXbeTNREYlaBvUygC_mKMc5rp2s4l4iNAIRD-2xJuRC63vKTjXwYNJ36byPx0PTL0lvC6KjFotG5CEKucbLcyW8xRlEsBqBV51979e5HkudRhnIV_5HW5VLg7btWnlSpd4NW_x_cowpt50EUpk6yFeuhZFmzgrUVEaDGbpp5XK_LHo6nQY8Ojc-PyxbXCIlaw_mf3U8oCC1dTFE/file [following]\n",
      "--2025-02-22 11:56:23--  https://uca5258fac172e44c77f633e9f33.dl.dropboxusercontent.com/cd/0/inline2/Ckl2Xc_cxxdaBWVe5r_40p906bjel0CQwAxPe1_nq37b6MJxQyPOCGYrGKSBy-B1eY1SLbCkCY_vtgtWsXJePp0wmTG35_Imb7e_WvUawCrqF6-seBRZy70y_w6nTkk4Izhogx00mp9qJlE1ASlBPv8rLKWFENHWqIlEqtZu0-c29juyzKPFlXbeTNREYlaBvUygC_mKMc5rp2s4l4iNAIRD-2xJuRC63vKTjXwYNJ36byPx0PTL0lvC6KjFotG5CEKucbLcyW8xRlEsBqBV51979e5HkudRhnIV_5HW5VLg7btWnlSpd4NW_x_cowpt50EUpk6yFeuhZFmzgrUVEaDGbpp5XK_LHo6nQY8Ojc-PyxbXCIlaw_mf3U8oCC1dTFE/file\n",
      "Reusing existing connection to uca5258fac172e44c77f633e9f33.dl.dropboxusercontent.com:443.\n",
      "HTTP request sent, awaiting response... 200 OK\n",
      "Length: 8690974 (8.3M) [application/octet-stream]\n",
      "Saving to: ‘model.bin’\n",
      "\n",
      "model.bin           100%[===================>]   8.29M  5.25MB/s    in 1.6s    \n",
      "\n",
      "2025-02-22 11:56:26 (5.25 MB/s) - ‘model.bin’ saved [8690974/8690974]\n",
      "\n"
     ]
    }
   ],
   "source": [
    "!wget -O vocab.txt https://www.dropbox.com/s/ht12ua9vpkep6l8/hw9_vocab.txt\n",
    "!wget -O model.bin https://www.dropbox.com/s/okmri7cnd729rr5/hw9_model.bin"
   ]
  },
  {
   "cell_type": "code",
   "execution_count": 2,
   "id": "i9ITxmo5i-s6",
   "metadata": {
    "id": "i9ITxmo5i-s6"
   },
   "outputs": [],
   "source": [
    "import torch\n",
    "import torch.nn as nn\n",
    "from tokenizers import Tokenizer\n",
    "from tokenizers.models import WordLevel\n",
    "from tokenizers.pre_tokenizers import Whitespace"
   ]
  },
  {
   "cell_type": "code",
   "execution_count": 3,
   "id": "VcDZCYkEi0b4",
   "metadata": {
    "id": "VcDZCYkEi0b4"
   },
   "outputs": [],
   "source": [
    "class RNNmodel(nn.Module):\n",
    "    def __init__(self, vocab_size, embedding_dim, dropout_rate):\n",
    "\n",
    "        super().__init__()\n",
    "        self.embedding_dim = embedding_dim\n",
    "\n",
    "        self.embedding = nn.Embedding(vocab_size, embedding_dim)\n",
    "        self.rnn = nn.LSTM(embedding_dim, 128, num_layers=2, batch_first=True)\n",
    "        self.dropout = nn.Dropout(dropout_rate)\n",
    "        self.fc2 = nn.Linear(128, vocab_size)\n",
    "\n",
    "    def forward(self, src):\n",
    "        embedding = self.embedding(src)\n",
    "        output, _ = self.rnn(embedding)\n",
    "        output = self.dropout(output)\n",
    "        prediction = self.fc2(output)\n",
    "        return prediction"
   ]
  },
  {
   "cell_type": "code",
   "execution_count": 4,
   "id": "6bZt9R0JjL8l",
   "metadata": {
    "id": "6bZt9R0JjL8l"
   },
   "outputs": [
    {
     "name": "stderr",
     "output_type": "stream",
     "text": [
      "/var/folders/5g/160h3py942nb4pbbgy0dhtz40000gn/T/ipykernel_19190/3839689483.py:7: FutureWarning: You are using `torch.load` with `weights_only=False` (the current default value), which uses the default pickle module implicitly. It is possible to construct malicious pickle data which will execute arbitrary code during unpickling (See https://github.com/pytorch/pytorch/blob/main/SECURITY.md#untrusted-models for more details). In a future release, the default value for `weights_only` will be flipped to `True`. This limits the functions that could be executed during unpickling. Arbitrary objects will no longer be allowed to be loaded via this mode unless they are explicitly allowlisted by the user via `torch.serialization.add_safe_globals`. We recommend you start setting `weights_only=True` for any use case where you don't have full control of the loaded file. Please open an issue on GitHub for any issues related to this experimental feature.\n",
      "  model.load_state_dict(torch.load(\"model.bin\",map_location='cpu'))\n"
     ]
    },
    {
     "data": {
      "text/plain": [
       "RNNmodel(\n",
       "  (embedding): Embedding(10054, 64)\n",
       "  (rnn): LSTM(64, 128, num_layers=2, batch_first=True)\n",
       "  (dropout): Dropout(p=0.2, inplace=False)\n",
       "  (fc2): Linear(in_features=128, out_features=10054, bias=True)\n",
       ")"
      ]
     },
     "execution_count": 4,
     "metadata": {},
     "output_type": "execute_result"
    }
   ],
   "source": [
    "with open(\"vocab.txt\") as f:\n",
    "    vocab_file = f.readlines()\n",
    "embedding_dim = 64\n",
    "dropout_rate = 0.2\n",
    "\n",
    "model = RNNmodel(len(vocab_file), embedding_dim, dropout_rate)\n",
    "model.load_state_dict(torch.load(\"model.bin\", map_location=\"cpu\"))\n",
    "model.eval()"
   ]
  },
  {
   "cell_type": "code",
   "execution_count": 5,
   "id": "mOEWXsXzjpn6",
   "metadata": {
    "id": "mOEWXsXzjpn6"
   },
   "outputs": [
    {
     "name": "stdout",
     "output_type": "stream",
     "text": [
      "Vocab Size: 10054\n"
     ]
    },
    {
     "data": {
      "text/plain": [
       "['<unk>', '<pad>', '<eos>', 'the', 'a', 'to', 'of', 's', 'in', 'for']"
      ]
     },
     "execution_count": 5,
     "metadata": {},
     "output_type": "execute_result"
    }
   ],
   "source": [
    "vocab = [v.strip() for v in vocab_file]\n",
    "vocab_size = len(vocab)\n",
    "print(f\"Vocab Size: {vocab_size}\")\n",
    "vocab[:10]"
   ]
  },
  {
   "cell_type": "code",
   "execution_count": 6,
   "id": "sem3jbjoF_d8",
   "metadata": {
    "id": "sem3jbjoF_d8"
   },
   "outputs": [
    {
     "name": "stdout",
     "output_type": "stream",
     "text": [
      "Encoding(num_tokens=5, attributes=[ids, type_ids, tokens, offsets, attention_mask, special_tokens_mask, overflowing])\n",
      "[3, 4, 6, 5, 0]\n",
      "['the', 'a', 'of', 'to', '<unk>']\n",
      "the a of to <unk>\n"
     ]
    }
   ],
   "source": [
    "stoi = {ch: i for i, ch in enumerate(vocab)}\n",
    "tokenizer = Tokenizer(WordLevel(stoi, unk_token=\"<unk>\"))\n",
    "tokenizer.pre_tokenizer = Whitespace()\n",
    "tokenized_text = tokenizer.encode(\"the a of to unknowns\")\n",
    "print(tokenized_text)\n",
    "print(tokenized_text.ids)\n",
    "print(tokenized_text.tokens)\n",
    "print(tokenizer.decode(tokenized_text.ids))"
   ]
  },
  {
   "cell_type": "markdown",
   "id": "rSt1yuR19co-",
   "metadata": {
    "id": "rSt1yuR19co-"
   },
   "source": [
    "## 1. TODO: Greedy decode\n",
    "Normally, in sequence generation task, the model will continue generating tokens until an end-of-sequence symbol appear or the maximum length is reached. For this task:\n",
    "- The end-of-sequence symbol is \"< eos >\" and its index is 2\n",
    "- Use the maximum generation length of 15"
   ]
  },
  {
   "cell_type": "code",
   "execution_count": 7,
   "id": "oUCajb2BvKnN",
   "metadata": {
    "id": "oUCajb2BvKnN"
   },
   "outputs": [],
   "source": [
    "eos_token = \"<eos>\"\n",
    "max_gen_length = 15"
   ]
  },
  {
   "cell_type": "code",
   "execution_count": 8,
   "id": "0920b9fc",
   "metadata": {},
   "outputs": [
    {
     "data": {
      "text/plain": [
       "torch.Size([2, 10054])"
      ]
     },
     "execution_count": 8,
     "metadata": {},
     "output_type": "execute_result"
    }
   ],
   "source": [
    "model(torch.Tensor(tokenizer.encode(\"to encourage\").ids).long()).shape"
   ]
  },
  {
   "cell_type": "code",
   "execution_count": 9,
   "id": "41c7815e",
   "metadata": {},
   "outputs": [
    {
     "data": {
      "text/plain": [
       "['make', 'me', '<unk>', '<unk>', '<unk>']"
      ]
     },
     "execution_count": 9,
     "metadata": {},
     "output_type": "execute_result"
    }
   ],
   "source": [
    "tokenizer.encode(\"make me <eos>\").tokens"
   ]
  },
  {
   "cell_type": "code",
   "execution_count": 10,
   "id": "e6638613",
   "metadata": {
    "id": "e6638613"
   },
   "outputs": [],
   "source": [
    "def greedy_decode(seed_text, tokenizer):\n",
    "    \"\"\"Greedy decodes with seed text.\n",
    "\n",
    "    Args:\n",
    "    seed_text: The seed string to be used as initial input to the model.\n",
    "    tokenizer: The tokenizer for converting word to index and back.\n",
    "\n",
    "    Your code should do the followings:\n",
    "      1. Convert current_text to sequences of indices\n",
    "      2. Predict the next token using the model and choose the token with the highest score as output\n",
    "      3. Append the predicted index to current_text\n",
    "      4. Loop until completion\n",
    "      5. Return text prediction and a list of probabilities of each step\n",
    "\n",
    "    You do not need to stop early when end-of-sequence token is generated and can continue decoding\n",
    "    until max_gen_length is reached. We can filter the eos token out later.\n",
    "    \"\"\"\n",
    "    current_indices = torch.Tensor(tokenizer.encode(seed_text).ids).long()\n",
    "    probs = []\n",
    "    for _ in range(max_gen_length):\n",
    "        output = model(current_indices.unsqueeze(0))[0]\n",
    "        output = torch.softmax(output, dim=-1)\n",
    "\n",
    "        next_token = torch.argmax(output[-1]).item()\n",
    "        probs.append(output[-1][next_token].item())\n",
    "\n",
    "        current_indices = torch.cat((current_indices, torch.tensor([next_token]).long()))\n",
    "\n",
    "        if next_token == 2:\n",
    "            break\n",
    "\n",
    "    output = tokenizer.decode(current_indices.tolist())\n",
    "    return output, probs"
   ]
  },
  {
   "cell_type": "code",
   "execution_count": 11,
   "id": "9f78f6c8",
   "metadata": {
    "id": "9f78f6c8"
   },
   "outputs": [],
   "source": [
    "def clean_output(text, eos_token):\n",
    "    \"\"\"Drop eos_token and every words that follow\"\"\"\n",
    "    return text.split(eos_token)[0]"
   ]
  },
  {
   "cell_type": "code",
   "execution_count": 12,
   "id": "bdd42c8a",
   "metadata": {
    "id": "bdd42c8a"
   },
   "outputs": [
    {
     "name": "stdout",
     "output_type": "stream",
     "text": [
      "Seed: to\tOutput: to encourage creativity in the new york bill \n",
      "Seed: america\tOutput: america s lethal export \n",
      "Seed: people\tOutput: people to balloon to make a criminal with a dog with a callous rival \n",
      "Seed: next\tOutput: next phenom english clubs 2 call another deal in the same arrivals \n",
      "Seed: picture\tOutput: picture perfect chapter a spot of view of banning care \n",
      "Seed: on\tOutput: on the catwalk in saudi arabia \n"
     ]
    }
   ],
   "source": [
    "sample_seeds = [\"to\", \"america\", \"people\", \"next\", \"picture\", \"on\"]\n",
    "for seed in sample_seeds:\n",
    "    output, probs = greedy_decode(seed, tokenizer)\n",
    "    output = clean_output(output, eos_token)\n",
    "    print(f\"Seed: {seed}\\tOutput: {output}\")"
   ]
  },
  {
   "cell_type": "markdown",
   "id": "h99jCVvjUvFT",
   "metadata": {
    "id": "h99jCVvjUvFT"
   },
   "source": [
    "Your output should be:\n",
    "\n",
    "*   to encourage creativity in the new york bill\n",
    "*   america s lethal export\n",
    "*   people to balloon to make a criminal with a dog with a callous rival\n",
    "*   next phenom english clubs 2 call another deal in the same arrivals\n",
    "*   picture perfect chapter a spot of view of banning care  \n",
    "*   on the catwalk in saudi arabia\n",
    "\n",
    "\n",
    "\n",
    "\n",
    "\n"
   ]
  },
  {
   "cell_type": "markdown",
   "id": "7553f608",
   "metadata": {
    "id": "7553f608"
   },
   "source": [
    "## 2. TODO: Beam search decode\n",
    "\n",
    "Another well-known decoding method is beam search decoding that focuses more on the overall sequence score.\n",
    "\n",
    "Instead of greedily choosing the token with the highest score for each step, beam search decoding expands all possible next tokens and keeps the __k__ most likely sequence at each step, where __k__ is a user-specified beam size. A sequence score is also calculated according user-specified cal_score() function.\n",
    "The beam with the highest score after the decoding process is done will be the output."
   ]
  },
  {
   "cell_type": "markdown",
   "id": "8kArvA-6xLmQ",
   "metadata": {
    "id": "8kArvA-6xLmQ"
   },
   "source": [
    "There are a few things that you need to know before implementing a beam search decoder:\n",
    "- When the eos token is produced, you can stop expanding that beam\n",
    "- However, the ended beams must be sorted together with active beams\n",
    "- The decoding ends when every beams are either ended or reached the maximum length, but for this task, you can continue decoding until the max_gen_len is reached\n",
    "- We usually work with probability in log scale to avoid numerical underflow. You should use np.log(score) before any calculation\n",
    "- **As probabilities for some classes will be very small, you must add a very small value to the score before taking log e.g np.log(prob + 0.00000001)**"
   ]
  },
  {
   "cell_type": "markdown",
   "id": "MQRZftUYxcCU",
   "metadata": {
    "id": "MQRZftUYxcCU"
   },
   "source": [
    "#### Sequence Score\n",
    "The naive way to calculate the sequence score is to __multiply every token scores__ together. However, doing so will make the decoder prefer shorter sequence as you multiply the sequence score with a value between \\[0,1\\] for every tokens in the sequence. Thus, we usually normalize the sequence score with its length by calculating its __geometric mean__ instead.\n",
    "\n",
    "**You should do this in log scale**"
   ]
  },
  {
   "cell_type": "code",
   "execution_count": 13,
   "id": "6c8a4629",
   "metadata": {},
   "outputs": [],
   "source": [
    "import numpy as np"
   ]
  },
  {
   "cell_type": "code",
   "execution_count": 84,
   "id": "d76c6f52",
   "metadata": {
    "id": "d76c6f52"
   },
   "outputs": [],
   "source": [
    "def cal_score(\n",
    "    score_list: list[float], length: int, normalized: int = False\n",
    "):  # cal score for each beam from a list of probs\n",
    "    score_list = torch.tensor(score_list)\n",
    "    score_list = torch.log(score_list + 1e-15)\n",
    "    score = score_list.sum().item()\n",
    "    if normalized:\n",
    "        score /= length\n",
    "    return score"
   ]
  },
  {
   "cell_type": "code",
   "execution_count": 85,
   "id": "455e9744",
   "metadata": {},
   "outputs": [
    {
     "data": {
      "text/plain": [
       "[5, 1]"
      ]
     },
     "execution_count": 85,
     "metadata": {},
     "output_type": "execute_result"
    }
   ],
   "source": [
    "tokenizer.encode(\"to\").ids + [1]"
   ]
  },
  {
   "cell_type": "code",
   "execution_count": 86,
   "id": "bb1dd75a",
   "metadata": {
    "id": "bb1dd75a"
   },
   "outputs": [],
   "source": [
    "def beam_search_decode(seed_text, max_gen_len, tokenizer, beam_size=5, normalized=False):\n",
    "    \"\"\"We will do beam search decoing using seed text in this function.\n",
    "\n",
    "    Output:\n",
    "    beams: A list of top k beams after the decoding ended, each beam is a list of\n",
    "      [seed_text, list of scores, length]\n",
    "\n",
    "    Your code should do the followings:\n",
    "    1.Loop until max_gen_len is reached.\n",
    "    2.During each step, loop thorugh each beam and use it to predict the next word.\n",
    "      If a beam is already ended, continues without expanding.\n",
    "    3.Sort all hypotheses according to cal_score().\n",
    "    4.Keep top k hypotheses to be used at the next step.\n",
    "    \"\"\"\n",
    "    # For each beam we will store (generated text, list of scores, and current length, is_finished)\n",
    "    # Add initial beam\n",
    "    seed_index = tokenizer.encode(seed_text).ids\n",
    "    beams = [[seed_index, [], 1, False]]\n",
    "    for _ in range(max_gen_len):\n",
    "        current_beams = []\n",
    "        for beam in beams:\n",
    "            # If beam is finished, we will not expand it\n",
    "            if beam[-1]:\n",
    "                current_beams.append(beam)\n",
    "                continue\n",
    "            # Generate next token\n",
    "            current_indices = torch.tensor(beam[0])\n",
    "            output = model(current_indices)\n",
    "            probs = torch.softmax(output, dim=-1)[-1].tolist()\n",
    "            # Expand beam\n",
    "            for i in range(len(probs)):\n",
    "                new_beam = [current_indices.tolist() + [i], beam[1] + [probs[i]], beam[2] + 1, i == 2]\n",
    "                current_beams.append(new_beam)\n",
    "\n",
    "        beams = sorted(current_beams, key=lambda x: cal_score(x[1], x[2], normalized), reverse=True)[:beam_size]\n",
    "\n",
    "    for beam in beams:\n",
    "        if beam[-1]:\n",
    "            beam[0] = beam[0][:-1]\n",
    "            beam[1] = beam[1][:-1]\n",
    "            beam[2] -= 1\n",
    "        # Convert indices back to text\n",
    "        beam[0] = tokenizer.decode(beam[0])\n",
    "\n",
    "    return [beam[:-1] for beam in beams]"
   ]
  },
  {
   "cell_type": "markdown",
   "id": "i_eqGDA09zqk",
   "metadata": {
    "id": "i_eqGDA09zqk"
   },
   "source": [
    "## 3. Generate!\n",
    "Generate 6 sentences based on the given seed texts.\n",
    "\n",
    "Decode with the provided seed texts with beam_size 5. Compare the results between greedy, normalized, and unnormalized decoding.\n",
    "\n",
    "Print the result using greedy decoding and top 2 results each using unnormalized and normalized decoing for each seed text.\n",
    "\n",
    "Also, print scores of each candidate according to cal_score(). Use normalization for greedy decoding."
   ]
  },
  {
   "cell_type": "code",
   "execution_count": 92,
   "id": "272c85b7",
   "metadata": {},
   "outputs": [
    {
     "name": "stdout",
     "output_type": "stream",
     "text": [
      "-Unnormalized-\n",
      "usa s bleak season 1 episode 2 darkness descends 0.0\n"
     ]
    }
   ],
   "source": [
    "print(\"-Unnormalized-\")\n",
    "for output, probs, _ in beam_search_decode(\"usa\", max_gen_length, tokenizer, beam_size=5, normalized=True)[:1]:\n",
    "    output = clean_output(output, eos_token)\n",
    "    print(output, round(np.exp(cal_score(probs, len(probs))), 2))"
   ]
  },
  {
   "cell_type": "code",
   "execution_count": 87,
   "id": "d40a3cb0",
   "metadata": {
    "id": "d40a3cb0"
   },
   "outputs": [
    {
     "name": "stdout",
     "output_type": "stream",
     "text": [
      "-Greedy-\n",
      "to encourage creativity in the new york bill  0.12\n",
      "-Unnormalized-\n",
      "to consult exploring recipes for new jersey 0.0\n",
      "to consult exploring recipes up the pacific northwest 0.0\n",
      "-Normalized-\n",
      "to consult exploring recipes up the pacific northwest 0.17\n",
      "to consult exploring recipes for new jersey 0.15\n",
      "\n",
      "-Greedy-\n",
      "america s lethal export  0.35\n",
      "-Unnormalized-\n",
      "america s lethal export 0.02\n",
      "america s desert aisles 0.01\n",
      "-Normalized-\n",
      "america s lethal export 0.25\n",
      "america s desert aisles 0.2\n",
      "\n",
      "-Greedy-\n",
      "people to balloon to make a criminal with a dog with a callous rival  0.16\n",
      "-Unnormalized-\n",
      "people to balloon for a criminal 0.0\n",
      "people to balloon for a criminal with trump 0.0\n",
      "-Normalized-\n",
      "people to balloon for a criminal with trump 0.13\n",
      "people to balloon for a criminal with a second fiddle 0.13\n",
      "\n",
      "-Greedy-\n",
      "next phenom english clubs 2 call another deal in the same arrivals  0.15\n",
      "-Unnormalized-\n",
      "next s blist revue 0.0\n",
      "next phenom english clubs 1 a chance to be back 0.0\n",
      "-Normalized-\n",
      "next s blist revue 0.14\n",
      "next phenom english clubs 1 a chance to be back 0.14\n",
      "\n",
      "-Greedy-\n",
      "picture perfect chapter a spot of view of banning care  0.09\n",
      "-Unnormalized-\n",
      "picture perfect use coffee 0.0\n",
      "picture korean a bonanza of pancakes 0.0\n",
      "-Normalized-\n",
      "picture korean a bonanza of contemplation times of donald trump 0.13\n",
      "picture korean a bonanza of contemplation times of trump s son 0.12\n",
      "\n",
      "-Greedy-\n",
      "on the catwalk in saudi arabia  0.25\n",
      "-Unnormalized-\n",
      "on the billboard chart 0.0\n",
      "on the catwalk in saudi arabia 0.0\n",
      "-Normalized-\n",
      "on the billboard chart 0.16\n",
      "on the whole30 diet vowing to eat smarter carbs to be insufficient 0.25\n",
      "\n"
     ]
    }
   ],
   "source": [
    "sample_seeds = [\"to\", \"america\", \"people\", \"next\", \"picture\", \"on\"]\n",
    "for seed in sample_seeds:\n",
    "    print(\"-Greedy-\")\n",
    "    output, probs = greedy_decode(seed, tokenizer)\n",
    "    output = clean_output(output, eos_token)\n",
    "    print(output, round(np.exp(cal_score(probs, len(probs), normalized=True)), 2))\n",
    "\n",
    "    print(\"-Unnormalized-\")\n",
    "    for output, probs, _ in beam_search_decode(seed, max_gen_length, tokenizer, beam_size=5, normalized=False)[:2]:\n",
    "        output = clean_output(output, eos_token)\n",
    "        print(output, round(np.exp(cal_score(probs, len(probs))), 2))\n",
    "\n",
    "    print(\"-Normalized-\")\n",
    "    for output, probs, _ in beam_search_decode(seed, max_gen_length, tokenizer, beam_size=5, normalized=True)[:2]:\n",
    "        output = clean_output(output, eos_token)\n",
    "        print(output, round(np.exp(cal_score(probs, len(probs), normalized=True)), 2))\n",
    "\n",
    "    print()"
   ]
  },
  {
   "cell_type": "markdown",
   "id": "icfu6pOzWUSt",
   "metadata": {
    "id": "icfu6pOzWUSt"
   },
   "source": [
    "Your output should be:\n",
    "\n",
    "\n",
    "```\n",
    "-Greedy-\n",
    "to encourage creativity in the new york bill  0.12\n",
    "-Unnormalized-\n",
    "To Consult Exploring Recipes For New Jersey 0.00\n",
    "To Consult Exploring Recipes Up The Pacific Northwest 0.00\n",
    "-Normalized-\n",
    "To Consult Exploring Recipes Up The Pacific Northwest 0.17\n",
    "To Consult Exploring Recipes Up The Least Of The Week 0.16\n",
    "\n",
    "-Greedy-\n",
    "america s lethal export  0.35\n",
    "-Unnormalized-\n",
    "America S Lethal Export 0.02\n",
    "America S Desert Aisles 0.01\n",
    "-Normalized-\n",
    "America S Lethal Export 0.25\n",
    "America S Desert Aisles 0.20\n",
    "\n",
    "-Greedy-\n",
    "people to balloon to make a criminal with a dog with a callous rival  0.16\n",
    "-Unnormalized-\n",
    "People To Balloon For A Criminal 0.00\n",
    "People To Balloon For A Criminal With Trump 0.00\n",
    "-Normalized-\n",
    "People To Balloon For A Criminal With A Second Fiddle 0.13\n",
    "People To Balloon For A Criminal With Trump 0.13\n",
    "\n",
    "-Greedy-\n",
    "next phenom english clubs 2 call another deal in the same arrivals  0.15\n",
    "-Unnormalized-\n",
    "Next S Blist Revue 0.00\n",
    "Next Phenom English Clubs 1 A Chance To Be Back 0.00\n",
    "-Normalized-\n",
    "Next S Blist Revue 0.14\n",
    "Next Phenom English Clubs 1 A Chance To Be Back 0.14\n",
    "\n",
    "-Greedy-\n",
    "picture perfect chapter a spot of view of banning care  0.09\n",
    "-Unnormalized-\n",
    "Picture Perfect Use Coffee 0.00\n",
    "Picture Korean A Bonanza Of Pancakes 0.00\n",
    "-Normalized-\n",
    "Picture Korean A Bonanza Of Contemplation Times Of Trump S Son 0.12\n",
    "Picture Korean A Bonanza Of Pancakes 0.07\n",
    "\n",
    "-Greedy-\n",
    "on the catwalk in saudi arabia  0.25\n",
    "-Unnormalized-\n",
    "On The Billboard Chart 0.00\n",
    "On The Catwalk In Saudi Arabia 0.00\n",
    "-Normalized-\n",
    "On The Whole30 Diet Vowing To Eat Smarter Carbs To Be 0.27\n",
    "On The Whole30 Diet Vowing To Eat Smarter Carbs For Because 0.26\n",
    "\n",
    "```\n",
    "\n"
   ]
  },
  {
   "cell_type": "markdown",
   "id": "tquJVskBeM9m",
   "metadata": {
    "id": "tquJVskBeM9m"
   },
   "source": [
    "# Answer Questions in MyCourseVille!\n",
    "\n",
    "Use the seed word \"usa\" to answer questions in MCV."
   ]
  }
 ],
 "metadata": {
  "colab": {
   "provenance": [],
   "toc_visible": true
  },
  "kernelspec": {
   "display_name": "nlp",
   "language": "python",
   "name": "python3"
  },
  "language_info": {
   "codemirror_mode": {
    "name": "ipython",
    "version": 3
   },
   "file_extension": ".py",
   "mimetype": "text/x-python",
   "name": "python",
   "nbconvert_exporter": "python",
   "pygments_lexer": "ipython3",
   "version": "3.11.11"
  }
 },
 "nbformat": 4,
 "nbformat_minor": 5
}
